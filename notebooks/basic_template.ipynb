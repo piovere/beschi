{
 "cells": [
  {
   "cell_type": "code",
   "execution_count": 1,
   "metadata": {},
   "outputs": [],
   "source": [
    "from pathlib import Path\n",
    "import struct"
   ]
  },
  {
   "cell_type": "code",
   "execution_count": 2,
   "metadata": {},
   "outputs": [],
   "source": [
    "rootdir = Path('.').absolute().parent\n",
    "basic_msg_file = rootdir / 'out' / 'data' / 'broken.c.msg'\n",
    "with open(basic_msg_file, 'rb') as f:\n",
    "    msg = f.read()"
   ]
  },
  {
   "cell_type": "code",
   "execution_count": 8,
   "metadata": {},
   "outputs": [],
   "source": [
    "x, y = struct.unpack('ff', msg)"
   ]
  },
  {
   "cell_type": "code",
   "execution_count": 9,
   "metadata": {},
   "outputs": [
    {
     "data": {
      "text/plain": [
       "8"
      ]
     },
     "execution_count": 9,
     "metadata": {},
     "output_type": "execute_result"
    }
   ],
   "source": [
    "len(msg)"
   ]
  },
  {
   "cell_type": "code",
   "execution_count": 19,
   "metadata": {},
   "outputs": [
    {
     "data": {
      "text/plain": [
       "b'\\x00\\x00\\x80?\\x00\\x00\\x00@'"
      ]
     },
     "execution_count": 19,
     "metadata": {},
     "output_type": "execute_result"
    }
   ],
   "source": [
    "msg"
   ]
  },
  {
   "cell_type": "code",
   "execution_count": 10,
   "metadata": {},
   "outputs": [
    {
     "data": {
      "text/plain": [
       "b'\\x00\\x00\\x80?\\x00\\x00\\x00@'"
      ]
     },
     "execution_count": 10,
     "metadata": {},
     "output_type": "execute_result"
    }
   ],
   "source": [
    "xy = [x, y]\n",
    "struct.pack('ff', *xy)"
   ]
  },
  {
   "cell_type": "code",
   "execution_count": 15,
   "metadata": {},
   "outputs": [],
   "source": [
    "class TruncatedMessage:\n",
    "    sizes = {\n",
    "        'byte': 1,\n",
    "        'bool': 1,\n",
    "        'int16': 2,\n",
    "        'uint16': 2,\n",
    "        'int32': 4,\n",
    "        'uint32': 4,\n",
    "        'int64': 8,\n",
    "        'uint64': 8,\n",
    "        'float': 4,\n",
    "        'double': 8,\n",
    "    }\n",
    "    format = 'ff'\n",
    "    \n",
    "    def __init__(self, x, y):\n",
    "        self.x = x\n",
    "        self.y = y\n",
    "\n",
    "        self.vars = [x, y]\n",
    "    \n",
    "    @property\n",
    "    def encoded(self):\n",
    "        return struct.pack(self.format, *self.vars)\n",
    "\n",
    "    def write_bytes(self, stream, tag):\n",
    "        stream.write(self.encoded)\n",
    "        raise NotImplementedError\n",
    "    \n",
    "    def get_message_type(self):\n",
    "        raise NotImplementedError\n",
    "    \n",
    "    def get_size_in_bytes(self):\n",
    "        return self.sizes['float'] * 2\n",
    "    \n",
    "    @classmethod\n",
    "    def from_bytes(self, buffer):\n",
    "        vals = struct.unpack(self.format, buffer)\n",
    "        return TruncatedMessage(*vals)\n"
   ]
  },
  {
   "cell_type": "code",
   "execution_count": 16,
   "metadata": {},
   "outputs": [],
   "source": [
    "t = TruncatedMessage.from_bytes(msg)"
   ]
  },
  {
   "cell_type": "code",
   "execution_count": 17,
   "metadata": {},
   "outputs": [
    {
     "data": {
      "text/plain": [
       "(1.0, 2.0)"
      ]
     },
     "execution_count": 17,
     "metadata": {},
     "output_type": "execute_result"
    }
   ],
   "source": [
    "t.x, t.y"
   ]
  },
  {
   "cell_type": "code",
   "execution_count": 18,
   "metadata": {},
   "outputs": [
    {
     "data": {
      "text/plain": [
       "8"
      ]
     },
     "execution_count": 18,
     "metadata": {},
     "output_type": "execute_result"
    }
   ],
   "source": [
    "t.get_size_in_bytes()"
   ]
  },
  {
   "cell_type": "code",
   "execution_count": null,
   "metadata": {},
   "outputs": [],
   "source": [
    "class ListMessage:\n",
    "    sizes = {\n",
    "        'byte': 1,\n",
    "        'bool': 1,\n",
    "        'int16': 2,\n",
    "        'uint16': 2,\n",
    "        'int32': 4,\n",
    "        'uint32': 4,\n",
    "        'int64': 8,\n",
    "        'uint64': 8,\n",
    "        'float': 4,\n",
    "        'double': 8,\n",
    "    }\n",
    "\n",
    "    def __init__(self, ints: list[int]):\n",
    "        self.ints = ints\n",
    "    \n",
    "    @property\n",
    "    def encoded(self):\n",
    "        l = len(self.ints) * self.sizes['int16']\n",
    "        return struct.pack(f'I{l}h', l, *self.ints)\n",
    "    \n",
    "    def write_bytes(self, stream, tag):\n",
    "        stream.write(self.encoded)\n",
    "        raise NotImplementedError\n",
    "    \n",
    "    def get_message_type(self):\n",
    "        raise NotImplementedError\n",
    "    \n",
    "    def get_size_in_bytes(self):\n",
    "        return self.sizes['int16'] * len(self.ints) + self.sizes['uint32']\n",
    "    \n",
    "    @classmethod\n",
    "    def from_bytes(self, buffer):\n",
    "        l = struct.unpack('I', buffer.read(4))\n",
    "        vals = struct.unpack(self.format, buffer)\n",
    "        return TruncatedMessage(*vals)"
   ]
  },
  {
   "cell_type": "code",
   "execution_count": 32,
   "metadata": {},
   "outputs": [
    {
     "data": {
      "text/plain": [
       "b'\\n\\x00\\x00\\x00\\x01\\x00\\x02\\x00\\x03\\x00\\x04\\x00\\xfb\\xff'"
      ]
     },
     "execution_count": 32,
     "metadata": {},
     "output_type": "execute_result"
    }
   ],
   "source": [
    "data = [1, 2, 3, 4, -5]\n",
    "l = len(data)\n",
    "d = struct.pack(f'I{l}h', l * 2, *data)\n",
    "d"
   ]
  },
  {
   "cell_type": "code",
   "execution_count": 33,
   "metadata": {},
   "outputs": [],
   "source": [
    "with open('dumbtest.bin', 'wb') as f:\n",
    "    f.write(d)"
   ]
  },
  {
   "cell_type": "code",
   "execution_count": 39,
   "metadata": {},
   "outputs": [
    {
     "name": "stdout",
     "output_type": "stream",
     "text": [
      "There are 10 bytes of data\n",
      "[1, 2, 3, 4, -5]\n"
     ]
    }
   ],
   "source": [
    "with open('dumbtest.bin', 'rb') as f:\n",
    "    l = struct.unpack('I', f.read(4))[0]\n",
    "    print(f'There are {l} bytes of data')\n",
    "    dbytes = f.read(l)\n",
    "    data = list(struct.unpack(f'{int(l/2)}h', dbytes))\n",
    "    print(data)"
   ]
  },
  {
   "cell_type": "code",
   "execution_count": null,
   "metadata": {},
   "outputs": [],
   "source": []
  }
 ],
 "metadata": {
  "interpreter": {
   "hash": "21751d0d3eb34233842fa09d6fc350d698090a99e64bed5173e82df0491209ec"
  },
  "kernelspec": {
   "display_name": "Python 3.10.2 ('beschi')",
   "language": "python",
   "name": "python3"
  },
  "language_info": {
   "codemirror_mode": {
    "name": "ipython",
    "version": 3
   },
   "file_extension": ".py",
   "mimetype": "text/x-python",
   "name": "python",
   "nbconvert_exporter": "python",
   "pygments_lexer": "ipython3",
   "version": "3.10.2"
  },
  "orig_nbformat": 4
 },
 "nbformat": 4,
 "nbformat_minor": 2
}
