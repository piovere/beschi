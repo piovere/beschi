{
 "cells": [
  {
   "cell_type": "code",
   "execution_count": 1,
   "metadata": {},
   "outputs": [],
   "source": [
    "from pathlib import Path\n",
    "import struct"
   ]
  },
  {
   "cell_type": "code",
   "execution_count": 29,
   "metadata": {},
   "outputs": [],
   "source": [
    "rootdir = Path('.').absolute().parent\n",
    "basic_msg_file = rootdir / 'out' / 'data' / 'broken.c.msg'\n",
    "with open(basic_msg_file, 'rb') as f:\n",
    "    msg = f.read()"
   ]
  },
  {
   "cell_type": "code",
   "execution_count": 30,
   "metadata": {},
   "outputs": [
    {
     "data": {
      "text/plain": [
       "(1.0, 2.0)"
      ]
     },
     "execution_count": 30,
     "metadata": {},
     "output_type": "execute_result"
    }
   ],
   "source": [
    "struct.unpack('ff', msg)"
   ]
  },
  {
   "cell_type": "code",
   "execution_count": 31,
   "metadata": {},
   "outputs": [
    {
     "data": {
      "text/plain": [
       "8"
      ]
     },
     "execution_count": 31,
     "metadata": {},
     "output_type": "execute_result"
    }
   ],
   "source": [
    "len(msg)"
   ]
  },
  {
   "cell_type": "code",
   "execution_count": 37,
   "metadata": {},
   "outputs": [
    {
     "data": {
      "text/plain": [
       "b'\\x00\\x00\\x80?\\x00\\x00\\x00@'"
      ]
     },
     "execution_count": 37,
     "metadata": {},
     "output_type": "execute_result"
    }
   ],
   "source": [
    "struct.pack('ff', 1.0, 2.0)"
   ]
  },
  {
   "cell_type": "code",
   "execution_count": 38,
   "metadata": {},
   "outputs": [],
   "source": [
    "class TruncatedMessage:\n",
    "    sizes = {\n",
    "        'byte': 1,\n",
    "        'bool': 1,\n",
    "        'int16': 2,\n",
    "        'uint16': 2,\n",
    "        'int32': 4,\n",
    "        'uint32': 4,\n",
    "        'int64': 8,\n",
    "        'uint64': 8,\n",
    "        'float': 4,\n",
    "        'double': 8,\n",
    "    }\n",
    "    \n",
    "    def __init__(self, x, y):\n",
    "        self.x = x\n",
    "        self.y = y\n",
    "\n",
    "        self.format = 'ff'\n",
    "    \n",
    "    def write_bytes(self, stream, tag):\n",
    "        stream.write(self.encoded)\n",
    "        raise NotImplementedError\n",
    "    \n",
    "    def get_message_type(self):\n",
    "        raise NotImplementedError\n",
    "    \n",
    "    def get_size_in_bytes(self):\n",
    "        return self.sizes['float32'] * 2\n",
    "    \n",
    "    @classmethod\n",
    "    def from_bytes(self, buffer):\n",
    "        struct.unpack(self.format, buffer)\n",
    "        raise NotImplementedError\n"
   ]
  },
  {
   "cell_type": "code",
   "execution_count": 35,
   "metadata": {},
   "outputs": [],
   "source": [
    "class Bird:\n",
    "    @classmethod\n",
    "    def speak(self, word):\n",
    "        print(word)\n",
    "    \n",
    "    def __init__(self, name):\n",
    "        self.name = name"
   ]
  },
  {
   "cell_type": "code",
   "execution_count": 36,
   "metadata": {},
   "outputs": [
    {
     "name": "stdout",
     "output_type": "stream",
     "text": [
      "quack\n"
     ]
    }
   ],
   "source": [
    "Bird.speak(\"quack\")"
   ]
  },
  {
   "cell_type": "code",
   "execution_count": null,
   "metadata": {},
   "outputs": [],
   "source": []
  }
 ],
 "metadata": {
  "interpreter": {
   "hash": "21751d0d3eb34233842fa09d6fc350d698090a99e64bed5173e82df0491209ec"
  },
  "kernelspec": {
   "display_name": "Python 3.10.2 ('beschi')",
   "language": "python",
   "name": "python3"
  },
  "language_info": {
   "codemirror_mode": {
    "name": "ipython",
    "version": 3
   },
   "file_extension": ".py",
   "mimetype": "text/x-python",
   "name": "python",
   "nbconvert_exporter": "python",
   "pygments_lexer": "ipython3",
   "version": "3.10.2"
  },
  "orig_nbformat": 4
 },
 "nbformat": 4,
 "nbformat_minor": 2
}
